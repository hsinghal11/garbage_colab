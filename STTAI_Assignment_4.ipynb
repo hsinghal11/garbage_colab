{
  "cells": [
    {
      "cell_type": "markdown",
      "metadata": {
        "id": "kmyTK9PrFJyL"
      },
      "source": [
        "# Assignment 4 - Active Learning and Cost Effective-Labelling\n",
        "\n",
        "Team 35, Members:     \n",
        "\n",
        "\n",
        "\n",
        "| Name | Roll Number |  \n",
        "| ------ | ------ |  \n",
        "| Himanshu Singhal | 24120030 |  \n",
        "| Gaurav | 24120028 |  \n",
        "\n",
        "## Introduction\n",
        "Active learning is a machine learning approach that aims to improve model performance by iteratively selecting the most informative data points for labeling. In this assignment, we compare three active learning methods—**Random Sampling**, **Uncertainty Sampling**, and **Query-by-Committee**—based on their **final accuracy** and **delta** values. The goal is to determine which method is the most cost-effective for achieving high accuracy.\n",
        "\n"
      ]
    },
    {
      "cell_type": "markdown",
      "metadata": {
        "id": "404-m5WMhQjg"
      },
      "source": [
        "## Task 1: Setup the Dataset"
      ]
    },
    {
      "cell_type": "markdown",
      "metadata": {
        "id": "jZdnzuzXGGP_"
      },
      "source": [
        "#### Install and Import modules"
      ]
    },
    {
      "cell_type": "code",
      "execution_count": 1,
      "metadata": {
        "colab": {
          "base_uri": "https://localhost:8080/"
        },
        "collapsed": true,
        "id": "v42_CE18GYxl",
        "outputId": "1928ff7c-7e4f-4c8e-f1f2-10589e0e26dd"
      },
      "outputs": [
        {
          "name": "stdout",
          "output_type": "stream",
          "text": [
            "Defaulting to user installation because normal site-packages is not writeable\n",
            "Collecting datasets\n",
            "  Using cached datasets-3.2.0-py3-none-any.whl.metadata (20 kB)\n",
            "Requirement already satisfied: numpy in c:\\users\\lenovo\\appdata\\roaming\\python\\python312\\site-packages (2.2.1)\n",
            "Requirement already satisfied: scikit-learn in c:\\users\\lenovo\\appdata\\roaming\\python\\python312\\site-packages (1.6.1)\n",
            "Requirement already satisfied: filelock in c:\\users\\lenovo\\appdata\\roaming\\python\\python312\\site-packages (from datasets) (3.16.1)\n",
            "Collecting pyarrow>=15.0.0 (from datasets)\n",
            "  Using cached pyarrow-19.0.0-cp312-cp312-win_amd64.whl.metadata (3.4 kB)\n",
            "Collecting dill<0.3.9,>=0.3.0 (from datasets)\n",
            "  Using cached dill-0.3.8-py3-none-any.whl.metadata (10 kB)\n",
            "Requirement already satisfied: pandas in c:\\users\\lenovo\\appdata\\roaming\\python\\python312\\site-packages (from datasets) (2.2.3)\n",
            "Requirement already satisfied: requests>=2.32.2 in c:\\users\\lenovo\\appdata\\roaming\\python\\python312\\site-packages (from datasets) (2.32.3)\n",
            "Collecting tqdm>=4.66.3 (from datasets)\n",
            "  Using cached tqdm-4.67.1-py3-none-any.whl.metadata (57 kB)\n",
            "Collecting xxhash (from datasets)\n",
            "  Using cached xxhash-3.5.0-cp312-cp312-win_amd64.whl.metadata (13 kB)\n",
            "Collecting multiprocess<0.70.17 (from datasets)\n",
            "  Using cached multiprocess-0.70.16-py312-none-any.whl.metadata (7.2 kB)\n",
            "Collecting fsspec<=2024.9.0,>=2023.1.0 (from fsspec[http]<=2024.9.0,>=2023.1.0->datasets)\n",
            "  Using cached fsspec-2024.9.0-py3-none-any.whl.metadata (11 kB)\n",
            "Collecting aiohttp (from datasets)\n",
            "  Downloading aiohttp-3.11.12-cp312-cp312-win_amd64.whl.metadata (8.0 kB)\n",
            "Collecting huggingface-hub>=0.23.0 (from datasets)\n",
            "  Downloading huggingface_hub-0.28.1-py3-none-any.whl.metadata (13 kB)\n",
            "Requirement already satisfied: packaging in c:\\users\\lenovo\\appdata\\roaming\\python\\python312\\site-packages (from datasets) (24.2)\n",
            "Requirement already satisfied: pyyaml>=5.1 in c:\\users\\lenovo\\appdata\\roaming\\python\\python312\\site-packages (from datasets) (6.0.2)\n",
            "Requirement already satisfied: scipy>=1.6.0 in c:\\users\\lenovo\\appdata\\roaming\\python\\python312\\site-packages (from scikit-learn) (1.15.1)\n",
            "Requirement already satisfied: joblib>=1.2.0 in c:\\users\\lenovo\\appdata\\roaming\\python\\python312\\site-packages (from scikit-learn) (1.4.2)\n",
            "Requirement already satisfied: threadpoolctl>=3.1.0 in c:\\users\\lenovo\\appdata\\roaming\\python\\python312\\site-packages (from scikit-learn) (3.5.0)\n",
            "Collecting aiohappyeyeballs>=2.3.0 (from aiohttp->datasets)\n",
            "  Using cached aiohappyeyeballs-2.4.4-py3-none-any.whl.metadata (6.1 kB)\n",
            "Collecting aiosignal>=1.1.2 (from aiohttp->datasets)\n",
            "  Using cached aiosignal-1.3.2-py2.py3-none-any.whl.metadata (3.8 kB)\n",
            "Requirement already satisfied: attrs>=17.3.0 in c:\\users\\lenovo\\appdata\\roaming\\python\\python312\\site-packages (from aiohttp->datasets) (24.3.0)\n",
            "Collecting frozenlist>=1.1.1 (from aiohttp->datasets)\n",
            "  Using cached frozenlist-1.5.0-cp312-cp312-win_amd64.whl.metadata (14 kB)\n",
            "Collecting multidict<7.0,>=4.5 (from aiohttp->datasets)\n",
            "  Using cached multidict-6.1.0-cp312-cp312-win_amd64.whl.metadata (5.1 kB)\n",
            "Collecting propcache>=0.2.0 (from aiohttp->datasets)\n",
            "  Using cached propcache-0.2.1-cp312-cp312-win_amd64.whl.metadata (9.5 kB)\n",
            "Collecting yarl<2.0,>=1.17.0 (from aiohttp->datasets)\n",
            "  Using cached yarl-1.18.3-cp312-cp312-win_amd64.whl.metadata (71 kB)\n",
            "Requirement already satisfied: typing-extensions>=3.7.4.3 in c:\\users\\lenovo\\appdata\\roaming\\python\\python312\\site-packages (from huggingface-hub>=0.23.0->datasets) (4.12.2)\n",
            "Requirement already satisfied: charset-normalizer<4,>=2 in c:\\users\\lenovo\\appdata\\roaming\\python\\python312\\site-packages (from requests>=2.32.2->datasets) (3.4.1)\n",
            "Requirement already satisfied: idna<4,>=2.5 in c:\\users\\lenovo\\appdata\\roaming\\python\\python312\\site-packages (from requests>=2.32.2->datasets) (3.10)\n",
            "Requirement already satisfied: urllib3<3,>=1.21.1 in c:\\users\\lenovo\\appdata\\roaming\\python\\python312\\site-packages (from requests>=2.32.2->datasets) (2.3.0)\n",
            "Requirement already satisfied: certifi>=2017.4.17 in c:\\users\\lenovo\\appdata\\roaming\\python\\python312\\site-packages (from requests>=2.32.2->datasets) (2024.12.14)\n",
            "Requirement already satisfied: colorama in c:\\users\\lenovo\\appdata\\roaming\\python\\python312\\site-packages (from tqdm>=4.66.3->datasets) (0.4.6)\n",
            "Requirement already satisfied: python-dateutil>=2.8.2 in c:\\users\\lenovo\\appdata\\roaming\\python\\python312\\site-packages (from pandas->datasets) (2.9.0.post0)\n",
            "Requirement already satisfied: pytz>=2020.1 in c:\\users\\lenovo\\appdata\\roaming\\python\\python312\\site-packages (from pandas->datasets) (2024.2)\n",
            "Requirement already satisfied: tzdata>=2022.7 in c:\\users\\lenovo\\appdata\\roaming\\python\\python312\\site-packages (from pandas->datasets) (2024.2)\n",
            "Requirement already satisfied: six>=1.5 in c:\\users\\lenovo\\appdata\\roaming\\python\\python312\\site-packages (from python-dateutil>=2.8.2->pandas->datasets) (1.17.0)\n",
            "Using cached datasets-3.2.0-py3-none-any.whl (480 kB)\n",
            "Using cached dill-0.3.8-py3-none-any.whl (116 kB)\n",
            "Using cached fsspec-2024.9.0-py3-none-any.whl (179 kB)\n",
            "Downloading aiohttp-3.11.12-cp312-cp312-win_amd64.whl (437 kB)\n",
            "Downloading huggingface_hub-0.28.1-py3-none-any.whl (464 kB)\n",
            "Using cached multiprocess-0.70.16-py312-none-any.whl (146 kB)\n",
            "Using cached pyarrow-19.0.0-cp312-cp312-win_amd64.whl (25.2 MB)\n",
            "Using cached tqdm-4.67.1-py3-none-any.whl (78 kB)\n",
            "Using cached xxhash-3.5.0-cp312-cp312-win_amd64.whl (30 kB)\n",
            "Using cached aiohappyeyeballs-2.4.4-py3-none-any.whl (14 kB)\n",
            "Using cached aiosignal-1.3.2-py2.py3-none-any.whl (7.6 kB)\n",
            "Using cached frozenlist-1.5.0-cp312-cp312-win_amd64.whl (51 kB)\n",
            "Using cached multidict-6.1.0-cp312-cp312-win_amd64.whl (28 kB)\n",
            "Using cached propcache-0.2.1-cp312-cp312-win_amd64.whl (44 kB)\n",
            "Using cached yarl-1.18.3-cp312-cp312-win_amd64.whl (90 kB)\n",
            "Installing collected packages: xxhash, tqdm, pyarrow, propcache, multidict, fsspec, frozenlist, dill, aiohappyeyeballs, yarl, multiprocess, huggingface-hub, aiosignal, aiohttp, datasets\n",
            "  Attempting uninstall: fsspec\n",
            "    Found existing installation: fsspec 2024.12.0\n",
            "    Uninstalling fsspec-2024.12.0:\n",
            "      Successfully uninstalled fsspec-2024.12.0\n",
            "Successfully installed aiohappyeyeballs-2.4.4 aiohttp-3.11.12 aiosignal-1.3.2 datasets-3.2.0 dill-0.3.8 frozenlist-1.5.0 fsspec-2024.9.0 huggingface-hub-0.28.1 multidict-6.1.0 multiprocess-0.70.16 propcache-0.2.1 pyarrow-19.0.0 tqdm-4.67.1 xxhash-3.5.0 yarl-1.18.3\n"
          ]
        },
        {
          "name": "stderr",
          "output_type": "stream",
          "text": [
            "\n",
            "[notice] A new release of pip is available: 24.3.1 -> 25.0\n",
            "[notice] To update, run: python.exe -m pip install --upgrade pip\n"
          ]
        }
      ],
      "source": [
        "!pip install datasets numpy scikit-learn\n",
        "\n",
        "import numpy as np\n",
        "from datasets import load_dataset\n",
        "from sklearn.model_selection import train_test_split\n",
        "import matplotlib.pyplot as plt\n",
        "from sklearn.ensemble import RandomForestClassifier\n",
        "from copy import deepcopy\n",
        "from sklearn.metrics import accuracy_score\n",
        "from scipy.stats import mode"
      ]
    },
    {
      "cell_type": "markdown",
      "metadata": {
        "id": "pT1YCswPFN8y"
      },
      "source": [
        "#### Load the MNIST dataset using the Hugging Face datasets library.\n"
      ]
    },
    {
      "cell_type": "code",
      "execution_count": 2,
      "metadata": {
        "colab": {
          "base_uri": "https://localhost:8080/"
        },
        "id": "769sVuycFFCn",
        "outputId": "5e5454cc-7f0f-4b27-8a62-eb8daebfff85"
      },
      "outputs": [
        {
          "name": "stdout",
          "output_type": "stream",
          "text": [
            "Loading the MNIST dataset...\n",
            "Dataset loaded successfully!\n"
          ]
        },
        {
          "data": {
            "text/plain": [
              "DatasetDict({\n",
              "    train: Dataset({\n",
              "        features: ['image', 'label'],\n",
              "        num_rows: 60000\n",
              "    })\n",
              "    test: Dataset({\n",
              "        features: ['image', 'label'],\n",
              "        num_rows: 10000\n",
              "    })\n",
              "})"
            ]
          },
          "execution_count": 2,
          "metadata": {},
          "output_type": "execute_result"
        }
      ],
      "source": [
        "# Step 1: Load the MNIST dataset\n",
        "# The MNIST dataset contains 28x28 grayscale images of handwritten digits (0-9).\n",
        "# Each image is represented as a PIL image in the Hugging Face dataset.\n",
        "print(\"Loading the MNIST dataset...\")\n",
        "dataset = load_dataset(\"mnist\")  # Keys: 'train' and 'test'\n",
        "print(\"Dataset loaded successfully!\")\n",
        "dataset\n"
      ]
    },
    {
      "cell_type": "markdown",
      "metadata": {
        "id": "s9IfZOX1Fdu3"
      },
      "source": [
        "#### Convert the image data into Numpy arrays and normalize pixel values to the range [0,1].\n"
      ]
    },
    {
      "cell_type": "code",
      "execution_count": 3,
      "metadata": {
        "colab": {
          "base_uri": "https://localhost:8080/"
        },
        "id": "-e8C-WJlFgYe",
        "outputId": "8b7be504-0d48-4be6-fc92-27592e8be1ac"
      },
      "outputs": [
        {
          "name": "stdout",
          "output_type": "stream",
          "text": [
            "\n",
            "Converting images to NumPy arrays and normalizing pixel values...\n"
          ]
        },
        {
          "data": {
            "text/plain": [
              "array([[[0, 0, 0, ..., 0, 0, 0],\n",
              "        [0, 0, 0, ..., 0, 0, 0],\n",
              "        [0, 0, 0, ..., 0, 0, 0],\n",
              "        ...,\n",
              "        [0, 0, 0, ..., 0, 0, 0],\n",
              "        [0, 0, 0, ..., 0, 0, 0],\n",
              "        [0, 0, 0, ..., 0, 0, 0]],\n",
              "\n",
              "       [[0, 0, 0, ..., 0, 0, 0],\n",
              "        [0, 0, 0, ..., 0, 0, 0],\n",
              "        [0, 0, 0, ..., 0, 0, 0],\n",
              "        ...,\n",
              "        [0, 0, 0, ..., 0, 0, 0],\n",
              "        [0, 0, 0, ..., 0, 0, 0],\n",
              "        [0, 0, 0, ..., 0, 0, 0]],\n",
              "\n",
              "       [[0, 0, 0, ..., 0, 0, 0],\n",
              "        [0, 0, 0, ..., 0, 0, 0],\n",
              "        [0, 0, 0, ..., 0, 0, 0],\n",
              "        ...,\n",
              "        [0, 0, 0, ..., 0, 0, 0],\n",
              "        [0, 0, 0, ..., 0, 0, 0],\n",
              "        [0, 0, 0, ..., 0, 0, 0]],\n",
              "\n",
              "       ...,\n",
              "\n",
              "       [[0, 0, 0, ..., 0, 0, 0],\n",
              "        [0, 0, 0, ..., 0, 0, 0],\n",
              "        [0, 0, 0, ..., 0, 0, 0],\n",
              "        ...,\n",
              "        [0, 0, 0, ..., 0, 0, 0],\n",
              "        [0, 0, 0, ..., 0, 0, 0],\n",
              "        [0, 0, 0, ..., 0, 0, 0]],\n",
              "\n",
              "       [[0, 0, 0, ..., 0, 0, 0],\n",
              "        [0, 0, 0, ..., 0, 0, 0],\n",
              "        [0, 0, 0, ..., 0, 0, 0],\n",
              "        ...,\n",
              "        [0, 0, 0, ..., 0, 0, 0],\n",
              "        [0, 0, 0, ..., 0, 0, 0],\n",
              "        [0, 0, 0, ..., 0, 0, 0]],\n",
              "\n",
              "       [[0, 0, 0, ..., 0, 0, 0],\n",
              "        [0, 0, 0, ..., 0, 0, 0],\n",
              "        [0, 0, 0, ..., 0, 0, 0],\n",
              "        ...,\n",
              "        [0, 0, 0, ..., 0, 0, 0],\n",
              "        [0, 0, 0, ..., 0, 0, 0],\n",
              "        [0, 0, 0, ..., 0, 0, 0]]], shape=(60000, 28, 28), dtype=uint8)"
            ]
          },
          "execution_count": 3,
          "metadata": {},
          "output_type": "execute_result"
        }
      ],
      "source": [
        "# Step 2: Convert the image data into NumPy arrays and normalize pixel values\n",
        "# Convert training and testing images to NumPy arrays.\n",
        "# Shapes:\n",
        "# - train_images: (60000, 28, 28) -> 60,000 images, each of 28x28 pixels\n",
        "# - test_images: (10000, 28, 28) -> 10,000 images, each of 28x28 pixels\n",
        "print(\"\\nConverting images to NumPy arrays and normalizing pixel values...\")\n",
        "train_images = np.array([np.array(img) for img in dataset['train']['image']])\n",
        "test_images = np.array([np.array(img) for img in dataset['test']['image']])\n",
        "train_images\n"
      ]
    },
    {
      "cell_type": "markdown",
      "metadata": {
        "id": "Sm9kKSa-FmjN"
      },
      "source": [
        "#### Flatten each image into a vector of 784 features.\n"
      ]
    },
    {
      "cell_type": "code",
      "execution_count": null,
      "metadata": {
        "colab": {
          "base_uri": "https://localhost:8080/"
        },
        "id": "Nh0ch0hmFncR",
        "outputId": "d2cb9977-e44b-4934-9a4e-bb1594111748"
      },
      "outputs": [
        {
          "name": "stdout",
          "output_type": "stream",
          "text": [
            "\n",
            "Flattening images to vectors of size 784...\n",
            "Flattened training images shape: (60000, 784)\n",
            "Flattened testing images shape: (10000, 784)\n"
          ]
        }
      ],
      "source": [
        "# Step 3: Flatten each image into a vector of 784 features\n",
        "# Flattening reshapes each 28x28 image into a single vector of size 784.\n",
        "# New shapes:\n",
        "# - train_images_flat: (60000, 784)\n",
        "# - test_images_flat: (10000, 784)\n",
        "print(\"\\nFlattening images to vectors of size 784...\")\n",
        "train_images_flat = train_images.reshape(-1, 28 * 28)\n",
        "test_images_flat = test_images.reshape(-1, 28 * 28)\n",
        "print(f\"Flattened training images shape: {train_images_flat.shape}\")\n",
        "print(f\"Flattened testing images shape: {test_images_flat.shape}\")\n"
      ]
    },
    {
      "cell_type": "markdown",
      "metadata": {
        "id": "BYLIl8H4wtLB"
      },
      "source": [
        "#### See an image using matplotlib to verify preprocessing"
      ]
    },
    {
      "cell_type": "code",
      "execution_count": null,
      "metadata": {
        "colab": {
          "base_uri": "https://localhost:8080/",
          "height": 447
        },
        "id": "9fHgt4mhwx7m",
        "outputId": "67771d1a-20e0-4ed5-a7c5-502801b19f47"
      },
      "outputs": [
        {
          "data": {
            "text/plain": [
              "<matplotlib.image.AxesImage at 0x7ebaa44d2110>"
            ]
          },
          "execution_count": 62,
          "metadata": {},
          "output_type": "execute_result"
        },
        {
          "data": {
            "image/png": "[encoded data removed]",
            "text/plain": [
              "<Figure size 640x480 with 1 Axes>"
            ]
          },
          "metadata": {},
          "output_type": "display_data"
        }
      ],
      "source": [
        "plt.imshow(dataset[\"train\"][0][\"image\"], cmap='gray')"
      ]
    },
    {
      "cell_type": "markdown",
      "metadata": {
        "id": "jA0oDXiPFqBN"
      },
      "source": [
        "#### Split the dataset into training and testing sets.\n"
      ]
    },
    {
      "cell_type": "code",
      "execution_count": null,
      "metadata": {
        "colab": {
          "base_uri": "https://localhost:8080/"
        },
        "id": "wa4-8UmWFpkC",
        "outputId": "04c85b06-b45a-4d23-fdad-d7f8612619c6"
      },
      "outputs": [
        {
          "name": "stdout",
          "output_type": "stream",
          "text": [
            "\n",
            "Splitting dataset into training and testing sets...\n",
            "Training set shape: (60000, 784)\n",
            "Testing set shape: (10000, 784)\n",
            "Y training set shape: 60000\n",
            "Y testing set shape: 10000\n"
          ]
        }
      ],
      "source": [
        "# Step 4: Split the dataset into training and testing sets\n",
        "# Using 80% of the data for training and 20% for testing.\n",
        "# Shapes after split:\n",
        "# - X_train: (48000, 784) -> Training images\n",
        "# - X_test: (12000, 784) -> Testing images\n",
        "# - y_train: (48000,) -> Training labels\n",
        "# - y_test: (12000,) -> Testing labels\n",
        "print(\"\\nSplitting dataset into training and testing sets...\")\n",
        "# X_train, X_test, y_train, y_test = train_test_split(\n",
        "#     train_images_flat, dataset['train']['label'], test_size=0.2, random_state=42\n",
        "# )\n",
        "\n",
        "X_train = train_images_flat\n",
        "y_train = dataset['train']['label']\n",
        "X_test = test_images_flat\n",
        "y_test = dataset['test']['label']\n",
        "\n",
        "\n",
        "print(f\"Training set shape: {X_train.shape}\")\n",
        "print(f\"Testing set shape: {X_test.shape}\")\n",
        "print(f\"Y training set shape: {len(y_train)}\")\n",
        "print(f\"Y testing set shape: {len(y_test)}\")"
      ]
    },
    {
      "cell_type": "markdown",
      "metadata": {
        "id": "ZQkLQnPyFuRC"
      },
      "source": [
        "#### Randomly select an initially labeled dataset of 200 samples from training samples.\n"
      ]
    },
    {
      "cell_type": "code",
      "execution_count": null,
      "metadata": {
        "colab": {
          "base_uri": "https://localhost:8080/"
        },
        "id": "4MEds2WuFwro",
        "outputId": "74127d09-2d47-473b-9d8c-ac92ec19aa54"
      },
      "outputs": [
        {
          "name": "stdout",
          "output_type": "stream",
          "text": [
            "\n",
            "Selecting 200 samples for the initial labeled dataset...\n",
            "Initial labeled dataset shape: (200, 784)\n",
            "Initial labeled labels shape: (200,)\n"
          ]
        }
      ],
      "source": [
        "# Step 5: Randomly select an initially labeled dataset of 200 samples from the training set\n",
        "# Randomly select indices for 200 labeled samples.\n",
        "# Shapes:\n",
        "# - X_initial_labeled: (200, 784)\n",
        "# - y_initial_labeled: (200,)\n",
        "\n",
        "np.random.seed(43)\n",
        "print(\"\\nSelecting 200 samples for the initial labeled dataset...\")\n",
        "initial_labeled_indices = np.random.choice(len(X_train), size=200, replace=False)\n",
        "X_initial_labeled = X_train[initial_labeled_indices]\n",
        "y_initial_labeled = np.array(y_train)[initial_labeled_indices]\n",
        "print(f\"Initial labeled dataset shape: {X_initial_labeled.shape}\")\n",
        "print(f\"Initial labeled labels shape: {y_initial_labeled.shape}\")\n",
        "copyOf_X_initial_labeled = X_initial_labeled.copy()\n",
        "copyOf_Y_initial_labeled = y_initial_labeled.copy()\n"
      ]
    },
    {
      "cell_type": "markdown",
      "metadata": {
        "id": "E2SKC09YF5-N"
      },
      "source": [
        "#### Generate an \"Unlabeled Pool,\" the Initial Dataset excluding 200 samples.\n"
      ]
    },
    {
      "cell_type": "code",
      "execution_count": null,
      "metadata": {
        "colab": {
          "base_uri": "https://localhost:8080/"
        },
        "id": "ADcsu9tIF6X4",
        "outputId": "006115d0-9610-46f1-cbdc-c07a1c744f04"
      },
      "outputs": [
        {
          "name": "stdout",
          "output_type": "stream",
          "text": [
            "\n",
            "Creating the unlabeled pool by excluding the initial labeled samples...\n",
            "Unlabeled pool shape: (59800, 784)\n",
            "Unlabeled pool labels shape: (59800,)\n"
          ]
        }
      ],
      "source": [
        "# Step 6: Generate an \"Unlabeled Pool,\" the Initial Dataset excluding 200 samples\n",
        "# Remove the 200 labeled samples to create the unlabeled pool.\n",
        "# Shapes:\n",
        "# - X_unlabeled_pool: (47800, 784)\n",
        "# - y_unlabeled_pool: (47800,)\n",
        "print(\"\\nCreating the unlabeled pool by excluding the initial labeled samples...\")\n",
        "unlabeled_indices = np.setdiff1d(np.arange(len(X_train)), initial_labeled_indices)\n",
        "X_unlabeled_pool = X_train[unlabeled_indices]\n",
        "y_unlabeled_pool = np.array(y_train)[unlabeled_indices]\n",
        "print(f\"Unlabeled pool shape: {X_unlabeled_pool.shape}\")\n",
        "print(f\"Unlabeled pool labels shape: {y_unlabeled_pool.shape}\")\n",
        "copy_of_X_unlabeled_pool = X_unlabeled_pool.copy()\n",
        "copy_of_Y_unlabeled_pool = y_unlabeled_pool.copy()\n"
      ]
    },
    {
      "cell_type": "markdown",
      "metadata": {
        "id": "gKuDyyp-F_1U"
      },
      "source": [
        "#### Output the shapes of datasets to verify\n"
      ]
    },
    {
      "cell_type": "code",
      "execution_count": null,
      "metadata": {
        "colab": {
          "base_uri": "https://localhost:8080/"
        },
        "id": "1-KTBJhTGBer",
        "outputId": "48fc3974-bc0e-4b8e-842d-a7804bb84300"
      },
      "outputs": [
        {
          "name": "stdout",
          "output_type": "stream",
          "text": [
            "\n",
            "Summary of dataset preparation:\n",
            "X_train shape: (60000, 784)\n",
            "X_test shape: (10000, 784)\n",
            "X_initial_labeled shape: (200, 784)\n",
            "X_unlabeled_pool shape: (59800, 784)\n"
          ]
        }
      ],
      "source": [
        "# Output the shapes of datasets to verify\n",
        "print(\"\\nSummary of dataset preparation:\")\n",
        "print(f\"X_train shape: {X_train.shape}\")\n",
        "print(f\"X_test shape: {X_test.shape}\")\n",
        "print(f\"X_initial_labeled shape: {X_initial_labeled.shape}\")\n",
        "print(f\"X_unlabeled_pool shape: {X_unlabeled_pool.shape}\")\n"
      ]
    },
    {
      "cell_type": "markdown",
      "metadata": {
        "id": "OsO7IwkLJbhK"
      },
      "source": [
        "## Task 2 - Implement Random Sampling for Active Learning"
      ]
    },
    {
      "cell_type": "code",
      "execution_count": null,
      "metadata": {
        "colab": {
          "base_uri": "https://localhost:8080/"
        },
        "id": "fVo1gLKfhTlO",
        "outputId": "68ae8be1-ed67-474e-c994-0ee043039e44"
      },
      "outputs": [
        {
          "name": "stdout",
          "output_type": "stream",
          "text": [
            "\n",
            "Initializing Random Forest Classifier...\n",
            "\n",
            "Training the classifier on the initial labeled dataset (200 samples)...\n",
            "Random Forest Classifier Score: 0.7852\n",
            "Initial training complete!\n"
          ]
        }
      ],
      "source": [
        "# Step 1: Initialize a Random Forest Classifier\n",
        "# The classifier will be trained on the initially labeled dataset (200 samples).\n",
        "# RandomForestClassifier is used as it is robust and handles high-dimensional data well, mentioned in the doc as well\n",
        "print(\"\\nInitializing Random Forest Classifier...\")\n",
        "global_clf = RandomForestClassifier(random_state=42)\n",
        "\n",
        "# Train the model on the initial labeled dataset\n",
        "print(\"\\nTraining the classifier on the initial labeled dataset (200 samples)...\")\n",
        "global_clf.fit(X_initial_labeled, y_initial_labeled)\n",
        "rf_score = global_clf.score(X_test, y_test)\n",
        "print(f\"Random Forest Classifier Score: {rf_score}\")\n",
        "print(\"Initial training complete!\")"
      ]
    },
    {
      "cell_type": "code",
      "execution_count": null,
      "metadata": {
        "colab": {
          "base_uri": "https://localhost:8080/",
          "height": 1000
        },
        "id": "UwEHALpkJdad",
        "outputId": "93ace943-a08d-4099-b69d-af5f439a8df7"
      },
      "outputs": [
        {
          "name": "stdout",
          "output_type": "stream",
          "text": [
            "\n",
            "Starting active learning loop (20 iterations)...\n",
            "\n",
            "--- Iteration 1 ---\n",
            "Randomly selected index from unlabeled pool: 40636\n",
            "Selected sample shape: (1, 784)\n",
            "Selected label: 6\n",
            "Updated labeled dataset shape: (201, 784)\n",
            "Updated labeled labels shape: (201,)\n",
            "Updated unlabeled pool shape: (59799, 784)\n",
            "Updated unlabeled labels shape: (59799,)\n",
            "Retraining the classifier on the updated labeled dataset...\n",
            "Retraining complete!\n",
            "Accuracy on the test set: 0.7853\n",
            "\n",
            "--- Iteration 2 ---\n",
            "Randomly selected index from unlabeled pool: 18481\n",
            "Selected sample shape: (1, 784)\n",
            "Selected label: 6\n",
            "Updated labeled dataset shape: (202, 784)\n",
            "Updated labeled labels shape: (202,)\n",
            "Updated unlabeled pool shape: (59798, 784)\n",
            "Updated unlabeled labels shape: (59798,)\n",
            "Retraining the classifier on the updated labeled dataset...\n",
            "Retraining complete!\n",
            "Accuracy on the test set: 0.7804\n",
            "\n",
            "--- Iteration 3 ---\n",
            "Randomly selected index from unlabeled pool: 27843\n",
            "Selected sample shape: (1, 784)\n",
            "Selected label: 6\n",
            "Updated labeled dataset shape: (203, 784)\n",
            "Updated labeled labels shape: (203,)\n",
            "Updated unlabeled pool shape: (59797, 784)\n",
            "Updated unlabeled labels shape: (59797,)\n",
            "Retraining the classifier on the updated labeled dataset...\n",
            "Retraining complete!\n",
            "Accuracy on the test set: 0.7803\n",
            "\n",
            "--- Iteration 4 ---\n",
            "Randomly selected index from unlabeled pool: 8342\n",
            "Selected sample shape: (1, 784)\n",
            "Selected label: 7\n",
            "Updated labeled dataset shape: (204, 784)\n",
            "Updated labeled labels shape: (204,)\n",
            "Updated unlabeled pool shape: (59796, 784)\n",
            "Updated unlabeled labels shape: (59796,)\n",
            "Retraining the classifier on the updated labeled dataset...\n",
            "Retraining complete!\n",
            "Accuracy on the test set: 0.7835\n",
            "\n",
            "--- Iteration 5 ---\n",
            "Randomly selected index from unlabeled pool: 32774\n",
            "Selected sample shape: (1, 784)\n",
            "Selected label: 7\n",
            "Updated labeled dataset shape: (205, 784)\n",
            "Updated labeled labels shape: (205,)\n",
            "Updated unlabeled pool shape: (59795, 784)\n",
            "Updated unlabeled labels shape: (59795,)\n",
            "Retraining the classifier on the updated labeled dataset...\n",
            "Retraining complete!\n",
            "Accuracy on the test set: 0.7802\n",
            "\n",
            "--- Iteration 6 ---\n",
            "Randomly selected index from unlabeled pool: 22633\n",
            "Selected sample shape: (1, 784)\n",
            "Selected label: 2\n",
            "Updated labeled dataset shape: (206, 784)\n",
            "Updated labeled labels shape: (206,)\n",
            "Updated unlabeled pool shape: (59794, 784)\n",
            "Updated unlabeled labels shape: (59794,)\n",
            "Retraining the classifier on the updated labeled dataset...\n",
            "Retraining complete!\n",
            "Accuracy on the test set: 0.7765\n",
            "\n",
            "--- Iteration 7 ---\n",
            "Randomly selected index from unlabeled pool: 9114\n",
            "Selected sample shape: (1, 784)\n",
            "Selected label: 9\n",
            "Updated labeled dataset shape: (207, 784)\n",
            "Updated labeled labels shape: (207,)\n",
            "Updated unlabeled pool shape: (59793, 784)\n",
            "Updated unlabeled labels shape: (59793,)\n",
            "Retraining the classifier on the updated labeled dataset...\n",
            "Retraining complete!\n",
            "Accuracy on the test set: 0.7832\n",
            "\n",
            "--- Iteration 8 ---\n",
            "Randomly selected index from unlabeled pool: 17892\n",
            "Selected sample shape: (1, 784)\n",
            "Selected label: 9\n",
            "Updated labeled dataset shape: (208, 784)\n",
            "Updated labeled labels shape: (208,)\n",
            "Updated unlabeled pool shape: (59792, 784)\n",
            "Updated unlabeled labels shape: (59792,)\n",
            "Retraining the classifier on the updated labeled dataset...\n",
            "Retraining complete!\n",
            "Accuracy on the test set: 0.7891\n",
            "\n",
            "--- Iteration 9 ---\n",
            "Randomly selected index from unlabeled pool: 50553\n",
            "Selected sample shape: (1, 784)\n",
            "Selected label: 2\n",
            "Updated labeled dataset shape: (209, 784)\n",
            "Updated labeled labels shape: (209,)\n",
            "Updated unlabeled pool shape: (59791, 784)\n",
            "Updated unlabeled labels shape: (59791,)\n",
            "Retraining the classifier on the updated labeled dataset...\n",
            "Retraining complete!\n",
            "Accuracy on the test set: 0.7854\n",
            "\n",
            "--- Iteration 10 ---\n",
            "Randomly selected index from unlabeled pool: 1384\n",
            "Selected sample shape: (1, 784)\n",
            "Selected label: 6\n",
            "Updated labeled dataset shape: (210, 784)\n",
            "Updated labeled labels shape: (210,)\n",
            "Updated unlabeled pool shape: (59790, 784)\n",
            "Updated unlabeled labels shape: (59790,)\n",
            "Retraining the classifier on the updated labeled dataset...\n",
            "Retraining complete!\n",
            "Accuracy on the test set: 0.7933\n",
            "\n",
            "--- Iteration 11 ---\n",
            "Randomly selected index from unlabeled pool: 4644\n",
            "Selected sample shape: (1, 784)\n",
            "Selected label: 2\n",
            "Updated labeled dataset shape: (211, 784)\n",
            "Updated labeled labels shape: (211,)\n",
            "Updated unlabeled pool shape: (59789, 784)\n",
            "Updated unlabeled labels shape: (59789,)\n",
            "Retraining the classifier on the updated labeled dataset...\n",
            "Retraining complete!\n",
            "Accuracy on the test set: 0.7899\n",
            "\n",
            "--- Iteration 12 ---\n",
            "Randomly selected index from unlabeled pool: 58107\n",
            "Selected sample shape: (1, 784)\n",
            "Selected label: 2\n",
            "Updated labeled dataset shape: (212, 784)\n",
            "Updated labeled labels shape: (212,)\n",
            "Updated unlabeled pool shape: (59788, 784)\n",
            "Updated unlabeled labels shape: (59788,)\n",
            "Retraining the classifier on the updated labeled dataset...\n",
            "Retraining complete!\n",
            "Accuracy on the test set: 0.7880\n",
            "\n",
            "--- Iteration 13 ---\n",
            "Randomly selected index from unlabeled pool: 12603\n",
            "Selected sample shape: (1, 784)\n",
            "Selected label: 1\n",
            "Updated labeled dataset shape: (213, 784)\n",
            "Updated labeled labels shape: (213,)\n",
            "Updated unlabeled pool shape: (59787, 784)\n",
            "Updated unlabeled labels shape: (59787,)\n",
            "Retraining the classifier on the updated labeled dataset...\n",
            "Retraining complete!\n",
            "Accuracy on the test set: 0.7941\n",
            "\n",
            "--- Iteration 14 ---\n",
            "Randomly selected index from unlabeled pool: 41183\n",
            "Selected sample shape: (1, 784)\n",
            "Selected label: 0\n",
            "Updated labeled dataset shape: (214, 784)\n",
            "Updated labeled labels shape: (214,)\n",
            "Updated unlabeled pool shape: (59786, 784)\n",
            "Updated unlabeled labels shape: (59786,)\n",
            "Retraining the classifier on the updated labeled dataset...\n",
            "Retraining complete!\n",
            "Accuracy on the test set: 0.7904\n",
            "\n",
            "--- Iteration 15 ---\n",
            "Randomly selected index from unlabeled pool: 28920\n",
            "Selected sample shape: (1, 784)\n",
            "Selected label: 1\n",
            "Updated labeled dataset shape: (215, 784)\n",
            "Updated labeled labels shape: (215,)\n",
            "Updated unlabeled pool shape: (59785, 784)\n",
            "Updated unlabeled labels shape: (59785,)\n",
            "Retraining the classifier on the updated labeled dataset...\n",
            "Retraining complete!\n",
            "Accuracy on the test set: 0.7894\n",
            "\n",
            "--- Iteration 16 ---\n",
            "Randomly selected index from unlabeled pool: 44863\n",
            "Selected sample shape: (1, 784)\n",
            "Selected label: 5\n",
            "Updated labeled dataset shape: (216, 784)\n",
            "Updated labeled labels shape: (216,)\n",
            "Updated unlabeled pool shape: (59784, 784)\n",
            "Updated unlabeled labels shape: (59784,)\n",
            "Retraining the classifier on the updated labeled dataset...\n",
            "Retraining complete!\n",
            "Accuracy on the test set: 0.7955\n",
            "\n",
            "--- Iteration 17 ---\n",
            "Randomly selected index from unlabeled pool: 58817\n",
            "Selected sample shape: (1, 784)\n",
            "Selected label: 2\n",
            "Updated labeled dataset shape: (217, 784)\n",
            "Updated labeled labels shape: (217,)\n",
            "Updated unlabeled pool shape: (59783, 784)\n",
            "Updated unlabeled labels shape: (59783,)\n",
            "Retraining the classifier on the updated labeled dataset...\n",
            "Retraining complete!\n",
            "Accuracy on the test set: 0.7937\n",
            "\n",
            "--- Iteration 18 ---\n",
            "Randomly selected index from unlabeled pool: 54497\n",
            "Selected sample shape: (1, 784)\n",
            "Selected label: 3\n",
            "Updated labeled dataset shape: (218, 784)\n",
            "Updated labeled labels shape: (218,)\n",
            "Updated unlabeled pool shape: (59782, 784)\n",
            "Updated unlabeled labels shape: (59782,)\n",
            "Retraining the classifier on the updated labeled dataset...\n",
            "Retraining complete!\n",
            "Accuracy on the test set: 0.8007\n",
            "\n",
            "--- Iteration 19 ---\n",
            "Randomly selected index from unlabeled pool: 28831\n",
            "Selected sample shape: (1, 784)\n",
            "Selected label: 6\n",
            "Updated labeled dataset shape: (219, 784)\n",
            "Updated labeled labels shape: (219,)\n",
            "Updated unlabeled pool shape: (59781, 784)\n",
            "Updated unlabeled labels shape: (59781,)\n",
            "Retraining the classifier on the updated labeled dataset...\n",
            "Retraining complete!\n",
            "Accuracy on the test set: 0.8078\n",
            "\n",
            "--- Iteration 20 ---\n",
            "Randomly selected index from unlabeled pool: 29506\n",
            "Selected sample shape: (1, 784)\n",
            "Selected label: 7\n",
            "Updated labeled dataset shape: (220, 784)\n",
            "Updated labeled labels shape: (220,)\n",
            "Updated unlabeled pool shape: (59780, 784)\n",
            "Updated unlabeled labels shape: (59780,)\n",
            "Retraining the classifier on the updated labeled dataset...\n",
            "Retraining complete!\n",
            "Accuracy on the test set: 0.8024\n",
            "\n",
            "--- Summary of Active Learning Accuracies ---\n",
            "Iteration 1: Accuracy = 0.7853\n",
            "Iteration 2: Accuracy = 0.7804\n",
            "Iteration 3: Accuracy = 0.7803\n",
            "Iteration 4: Accuracy = 0.7835\n",
            "Iteration 5: Accuracy = 0.7802\n",
            "Iteration 6: Accuracy = 0.7765\n",
            "Iteration 7: Accuracy = 0.7832\n",
            "Iteration 8: Accuracy = 0.7891\n",
            "Iteration 9: Accuracy = 0.7854\n",
            "Iteration 10: Accuracy = 0.7933\n",
            "Iteration 11: Accuracy = 0.7899\n",
            "Iteration 12: Accuracy = 0.7880\n",
            "Iteration 13: Accuracy = 0.7941\n",
            "Iteration 14: Accuracy = 0.7904\n",
            "Iteration 15: Accuracy = 0.7894\n",
            "Iteration 16: Accuracy = 0.7955\n",
            "Iteration 17: Accuracy = 0.7937\n",
            "Iteration 18: Accuracy = 0.8007\n",
            "Iteration 19: Accuracy = 0.8078\n",
            "Iteration 20: Accuracy = 0.8024\n"
          ]
        },
        {
          "data": {
            "text/plain": [
              "Text(0.5, 1.0, 'Accuracy vs. Iteration')"
            ]
          },
          "execution_count": 68,
          "metadata": {},
          "output_type": "execute_result"
        },
        {
          "data": {
            "image/png": "[encoded data removed]",
            "text/plain": [
              "<Figure size 640x480 with 1 Axes>"
            ]
          },
          "metadata": {},
          "output_type": "display_data"
        }
      ],
      "source": [
        "# Step 2: Active Learning Loop\n",
        "# Run the active learning loop for 20 iterations:\n",
        "# In each iteration, a random sample is selected from the unlabeled pool, added to the labeled dataset,\n",
        "# and the model is retrained on the updated dataset.\n",
        "print(\"\\nStarting active learning loop (20 iterations)...\")\n",
        "\n",
        "clf = deepcopy(global_clf)  # local model which is a deep copy of the global model\n",
        "\n",
        "# To store the model's accuracy at each iteration\n",
        "random_sampling_accuracies = []\n",
        "\n",
        "for iteration in range(1, 21):\n",
        "    print(f\"\\n--- Iteration {iteration} ---\")\n",
        "\n",
        "    # Step 2a: Randomly select a sample from the unlabeled pool\n",
        "    # Select a random index from the unlabeled pool.\n",
        "    selected_index = np.random.choice(len(X_unlabeled_pool))\n",
        "    print(f\"Randomly selected index from unlabeled pool: {selected_index}\")\n",
        "\n",
        "    # Step 2b: Get the selected sample and its true label\n",
        "    selected_sample = X_unlabeled_pool[selected_index].reshape(1, -1)  # Reshape to preserve dimensions\n",
        "    selected_label = y_unlabeled_pool[selected_index]\n",
        "    print(f\"Selected sample shape: {selected_sample.shape}\")\n",
        "    print(f\"Selected label: {selected_label}\")\n",
        "\n",
        "    # Step 2c: Add the sample and label to the labeled dataset\n",
        "    X_initial_labeled = np.vstack([X_initial_labeled, selected_sample])\n",
        "    y_initial_labeled = np.append(y_initial_labeled, selected_label)\n",
        "    print(f\"Updated labeled dataset shape: {X_initial_labeled.shape}\")\n",
        "    print(f\"Updated labeled labels shape: {y_initial_labeled.shape}\")\n",
        "\n",
        "    # Step 2d: Remove the selected sample and label from the unlabeled pool\n",
        "    X_unlabeled_pool = np.delete(X_unlabeled_pool, selected_index, axis=0)\n",
        "    y_unlabeled_pool = np.delete(y_unlabeled_pool, selected_index)\n",
        "    print(f\"Updated unlabeled pool shape: {X_unlabeled_pool.shape}\")\n",
        "    print(f\"Updated unlabeled labels shape: {y_unlabeled_pool.shape}\")\n",
        "\n",
        "    # Step 2e: Retrain the model on the updated dataset\n",
        "    print(\"Retraining the classifier on the updated labeled dataset...\")\n",
        "    clf.fit(X_initial_labeled, y_initial_labeled)\n",
        "    print(\"Retraining complete!\")\n",
        "\n",
        "    # Step 2f: Check the model's accuracy on the test set\n",
        "    y_pred = clf.predict(X_test)\n",
        "    accuracy = accuracy_score(y_test, y_pred)\n",
        "    random_sampling_accuracies.append(accuracy)\n",
        "    print(f\"Accuracy on the test set: {accuracy:.4f}\")\n",
        "\n",
        "# Step 3: Print final summary of accuracies\n",
        "print(\"\\n--- Summary of Active Learning Accuracies ---\")\n",
        "for i, acc in enumerate(random_sampling_accuracies, 1):\n",
        "    print(f\"Iteration {i}: Accuracy = {acc:.4f}\")\n",
        "\n",
        "\n",
        "plt.plot(np.arange(1, 21, 1, dtype=int), random_sampling_accuracies)\n",
        "plt.scatter(np.arange(1, 21, 1, dtype=int), random_sampling_accuracies)\n",
        "plt.xlabel(\"Iteration\")\n",
        "plt.xticks(np.arange(1, 21, 1))\n",
        "plt.ylim(0.77, 0.82)\n",
        "plt.ylabel(\"Accuracy\")\n",
        "plt.title(\"Accuracy vs. Iteration\")"
      ]
    },
    {
      "cell_type": "markdown",
      "metadata": {
        "id": "Yh_Zp5__Ljxm"
      },
      "source": [
        "## Task 3 - Implement Uncertainty Sampling for Active Learning.\n"
      ]
    },
    {
      "cell_type": "markdown",
      "metadata": {
        "id": "KgfuYDSeTerf"
      },
      "source": [
        "_For calculating Label Entropy and Vote Entropy, do not use functions from the library; write code from scratch_\n",
        "#### Custom function for calculating entropy of an array containing probabilities of different classes"
      ]
    },
    {
      "cell_type": "code",
      "execution_count": null,
      "metadata": {
        "id": "0ntVnntA3SKS"
      },
      "outputs": [],
      "source": [
        "def compute_entropy(probabilities, base=np.e):\n",
        "    \"\"\"Compute entropy for each sample as a measure of uncertainty.\n",
        "    \"\"\"\n",
        "    # Avoid log(0) by replacing zeros with a very small number\n",
        "    eps = 1e-10\n",
        "    probabilities = np.clip(probabilities, eps, 1.0)\n",
        "\n",
        "    # Compute entropy using the formula: H(p) = -sum(p * log(p)), then divide for base\n",
        "    return -np.sum(probabilities * np.log(probabilities), axis=1) / np.log(base)"
      ]
    },
    {
      "cell_type": "markdown",
      "metadata": {
        "id": "6MkOLId3TxrZ"
      },
      "source": [
        "Testing the function alongside **scipy's entropy**"
      ]
    },
    {
      "cell_type": "code",
      "execution_count": null,
      "metadata": {
        "colab": {
          "base_uri": "https://localhost:8080/"
        },
        "id": "piPAqJeVT_4x",
        "outputId": "925d4362-ee04-4c4e-fa5f-67c1389ba8c0"
      },
      "outputs": [
        {
          "name": "stdout",
          "output_type": "stream",
          "text": [
            "Custom Entropy: [1.02965302]\n",
            "Scipy Entropy: 1.0296530140645737\n"
          ]
        }
      ],
      "source": [
        "from scipy.stats import entropy\n",
        "\n",
        "test_arr = [[0, 0.2, 0, 0.5, 0.3]]\n",
        "custom_entropy = compute_entropy(test_arr)\n",
        "scipy_entropy = entropy(test_arr[0])\n",
        "\n",
        "print(f\"Custom Entropy: {custom_entropy}\")\n",
        "print(f\"Scipy Entropy: {scipy_entropy}\")"
      ]
    },
    {
      "cell_type": "markdown",
      "metadata": {
        "id": "MbOWTcL4VFau"
      },
      "source": [
        "As we can see, our custom function gives the same answer as scipy's function (takes log to the base e : natural log)"
      ]
    },
    {
      "cell_type": "code",
      "execution_count": null,
      "metadata": {
        "id": "KLzD8wEo3N_M"
      },
      "outputs": [],
      "source": [
        "X_initial_labeled = copyOf_X_initial_labeled\n",
        "y_initial_labeled = copyOf_Y_initial_labeled\n",
        "\n",
        "X_unlabeled_pool = copy_of_X_unlabeled_pool\n",
        "y_unlabeled_pool = copy_of_Y_unlabeled_pool"
      ]
    },
    {
      "cell_type": "code",
      "execution_count": null,
      "metadata": {
        "colab": {
          "base_uri": "https://localhost:8080/",
          "height": 1000
        },
        "id": "VqTriHCzLk8v",
        "outputId": "1bffcd45-a8bf-4bca-fd61-cdbb485b2196"
      },
      "outputs": [
        {
          "name": "stdout",
          "output_type": "stream",
          "text": [
            "\n",
            "Starting active learning loop with uncertainty sampling (20 iterations)...\n",
            "\n",
            "--- Iteration 1 ---\n",
            "Predicted probabilities shape: (59800, 10)\n",
            "Uncertainties (entropy) computed for 59800 samples.\n",
            "Index of most uncertain sample: 56784\n",
            "Selected sample shape: (1, 784)\n",
            "Selected label: 8\n",
            "Updated labeled dataset shape: (201, 784)\n",
            "Updated labeled labels shape: (201,)\n",
            "Updated unlabeled pool shape: (59799, 784)\n",
            "Updated unlabeled labels shape: (59799,)\n",
            "Retraining the classifier on the updated labeled dataset...\n",
            "Retraining complete!\n",
            "Accuracy on the test set: 0.7834\n",
            "\n",
            "--- Iteration 2 ---\n",
            "Predicted probabilities shape: (59799, 10)\n",
            "Uncertainties (entropy) computed for 59799 samples.\n",
            "Index of most uncertain sample: 7644\n",
            "Selected sample shape: (1, 784)\n",
            "Selected label: 3\n",
            "Updated labeled dataset shape: (202, 784)\n",
            "Updated labeled labels shape: (202,)\n",
            "Updated unlabeled pool shape: (59798, 784)\n",
            "Updated unlabeled labels shape: (59798,)\n",
            "Retraining the classifier on the updated labeled dataset...\n",
            "Retraining complete!\n",
            "Accuracy on the test set: 0.7862\n",
            "\n",
            "--- Iteration 3 ---\n",
            "Predicted probabilities shape: (59798, 10)\n",
            "Uncertainties (entropy) computed for 59798 samples.\n",
            "Index of most uncertain sample: 37325\n",
            "Selected sample shape: (1, 784)\n",
            "Selected label: 5\n",
            "Updated labeled dataset shape: (203, 784)\n",
            "Updated labeled labels shape: (203,)\n",
            "Updated unlabeled pool shape: (59797, 784)\n",
            "Updated unlabeled labels shape: (59797,)\n",
            "Retraining the classifier on the updated labeled dataset...\n",
            "Retraining complete!\n",
            "Accuracy on the test set: 0.7837\n",
            "\n",
            "--- Iteration 4 ---\n",
            "Predicted probabilities shape: (59797, 10)\n",
            "Uncertainties (entropy) computed for 59797 samples.\n",
            "Index of most uncertain sample: 17545\n",
            "Selected sample shape: (1, 784)\n",
            "Selected label: 8\n",
            "Updated labeled dataset shape: (204, 784)\n",
            "Updated labeled labels shape: (204,)\n",
            "Updated unlabeled pool shape: (59796, 784)\n",
            "Updated unlabeled labels shape: (59796,)\n",
            "Retraining the classifier on the updated labeled dataset...\n",
            "Retraining complete!\n",
            "Accuracy on the test set: 0.7845\n",
            "\n",
            "--- Iteration 5 ---\n",
            "Predicted probabilities shape: (59796, 10)\n",
            "Uncertainties (entropy) computed for 59796 samples.\n",
            "Index of most uncertain sample: 34589\n",
            "Selected sample shape: (1, 784)\n",
            "Selected label: 5\n",
            "Updated labeled dataset shape: (205, 784)\n",
            "Updated labeled labels shape: (205,)\n",
            "Updated unlabeled pool shape: (59795, 784)\n",
            "Updated unlabeled labels shape: (59795,)\n",
            "Retraining the classifier on the updated labeled dataset...\n",
            "Retraining complete!\n",
            "Accuracy on the test set: 0.7844\n",
            "\n",
            "--- Iteration 6 ---\n",
            "Predicted probabilities shape: (59795, 10)\n",
            "Uncertainties (entropy) computed for 59795 samples.\n",
            "Index of most uncertain sample: 3671\n",
            "Selected sample shape: (1, 784)\n",
            "Selected label: 8\n",
            "Updated labeled dataset shape: (206, 784)\n",
            "Updated labeled labels shape: (206,)\n",
            "Updated unlabeled pool shape: (59794, 784)\n",
            "Updated unlabeled labels shape: (59794,)\n",
            "Retraining the classifier on the updated labeled dataset...\n",
            "Retraining complete!\n",
            "Accuracy on the test set: 0.7890\n",
            "\n",
            "--- Iteration 7 ---\n",
            "Predicted probabilities shape: (59794, 10)\n",
            "Uncertainties (entropy) computed for 59794 samples.\n",
            "Index of most uncertain sample: 8398\n",
            "Selected sample shape: (1, 784)\n",
            "Selected label: 5\n",
            "Updated labeled dataset shape: (207, 784)\n",
            "Updated labeled labels shape: (207,)\n",
            "Updated unlabeled pool shape: (59793, 784)\n",
            "Updated unlabeled labels shape: (59793,)\n",
            "Retraining the classifier on the updated labeled dataset...\n",
            "Retraining complete!\n",
            "Accuracy on the test set: 0.7848\n",
            "\n",
            "--- Iteration 8 ---\n",
            "Predicted probabilities shape: (59793, 10)\n",
            "Uncertainties (entropy) computed for 59793 samples.\n",
            "Index of most uncertain sample: 42962\n",
            "Selected sample shape: (1, 784)\n",
            "Selected label: 5\n",
            "Updated labeled dataset shape: (208, 784)\n",
            "Updated labeled labels shape: (208,)\n",
            "Updated unlabeled pool shape: (59792, 784)\n",
            "Updated unlabeled labels shape: (59792,)\n",
            "Retraining the classifier on the updated labeled dataset...\n",
            "Retraining complete!\n",
            "Accuracy on the test set: 0.7903\n",
            "\n",
            "--- Iteration 9 ---\n",
            "Predicted probabilities shape: (59792, 10)\n",
            "Uncertainties (entropy) computed for 59792 samples.\n",
            "Index of most uncertain sample: 12140\n",
            "Selected sample shape: (1, 784)\n",
            "Selected label: 8\n",
            "Updated labeled dataset shape: (209, 784)\n",
            "Updated labeled labels shape: (209,)\n",
            "Updated unlabeled pool shape: (59791, 784)\n",
            "Updated unlabeled labels shape: (59791,)\n",
            "Retraining the classifier on the updated labeled dataset...\n",
            "Retraining complete!\n",
            "Accuracy on the test set: 0.7884\n",
            "\n",
            "--- Iteration 10 ---\n",
            "Predicted probabilities shape: (59791, 10)\n",
            "Uncertainties (entropy) computed for 59791 samples.\n",
            "Index of most uncertain sample: 13191\n",
            "Selected sample shape: (1, 784)\n",
            "Selected label: 5\n",
            "Updated labeled dataset shape: (210, 784)\n",
            "Updated labeled labels shape: (210,)\n",
            "Updated unlabeled pool shape: (59790, 784)\n",
            "Updated unlabeled labels shape: (59790,)\n",
            "Retraining the classifier on the updated labeled dataset...\n",
            "Retraining complete!\n",
            "Accuracy on the test set: 0.7908\n",
            "\n",
            "--- Iteration 11 ---\n",
            "Predicted probabilities shape: (59790, 10)\n",
            "Uncertainties (entropy) computed for 59790 samples.\n",
            "Index of most uncertain sample: 42563\n",
            "Selected sample shape: (1, 784)\n",
            "Selected label: 8\n",
            "Updated labeled dataset shape: (211, 784)\n",
            "Updated labeled labels shape: (211,)\n",
            "Updated unlabeled pool shape: (59789, 784)\n",
            "Updated unlabeled labels shape: (59789,)\n",
            "Retraining the classifier on the updated labeled dataset...\n",
            "Retraining complete!\n",
            "Accuracy on the test set: 0.7856\n",
            "\n",
            "--- Iteration 12 ---\n",
            "Predicted probabilities shape: (59789, 10)\n",
            "Uncertainties (entropy) computed for 59789 samples.\n",
            "Index of most uncertain sample: 25000\n",
            "Selected sample shape: (1, 784)\n",
            "Selected label: 0\n",
            "Updated labeled dataset shape: (212, 784)\n",
            "Updated labeled labels shape: (212,)\n",
            "Updated unlabeled pool shape: (59788, 784)\n",
            "Updated unlabeled labels shape: (59788,)\n",
            "Retraining the classifier on the updated labeled dataset...\n",
            "Retraining complete!\n",
            "Accuracy on the test set: 0.7911\n",
            "\n",
            "--- Iteration 13 ---\n",
            "Predicted probabilities shape: (59788, 10)\n",
            "Uncertainties (entropy) computed for 59788 samples.\n",
            "Index of most uncertain sample: 47235\n",
            "Selected sample shape: (1, 784)\n",
            "Selected label: 7\n",
            "Updated labeled dataset shape: (213, 784)\n",
            "Updated labeled labels shape: (213,)\n",
            "Updated unlabeled pool shape: (59787, 784)\n",
            "Updated unlabeled labels shape: (59787,)\n",
            "Retraining the classifier on the updated labeled dataset...\n",
            "Retraining complete!\n",
            "Accuracy on the test set: 0.7883\n",
            "\n",
            "--- Iteration 14 ---\n",
            "Predicted probabilities shape: (59787, 10)\n",
            "Uncertainties (entropy) computed for 59787 samples.\n",
            "Index of most uncertain sample: 23238\n",
            "Selected sample shape: (1, 784)\n",
            "Selected label: 2\n",
            "Updated labeled dataset shape: (214, 784)\n",
            "Updated labeled labels shape: (214,)\n",
            "Updated unlabeled pool shape: (59786, 784)\n",
            "Updated unlabeled labels shape: (59786,)\n",
            "Retraining the classifier on the updated labeled dataset...\n",
            "Retraining complete!\n",
            "Accuracy on the test set: 0.7960\n",
            "\n",
            "--- Iteration 15 ---\n",
            "Predicted probabilities shape: (59786, 10)\n",
            "Uncertainties (entropy) computed for 59786 samples.\n",
            "Index of most uncertain sample: 12226\n",
            "Selected sample shape: (1, 784)\n",
            "Selected label: 9\n",
            "Updated labeled dataset shape: (215, 784)\n",
            "Updated labeled labels shape: (215,)\n",
            "Updated unlabeled pool shape: (59785, 784)\n",
            "Updated unlabeled labels shape: (59785,)\n",
            "Retraining the classifier on the updated labeled dataset...\n",
            "Retraining complete!\n",
            "Accuracy on the test set: 0.7980\n",
            "\n",
            "--- Iteration 16 ---\n",
            "Predicted probabilities shape: (59785, 10)\n",
            "Uncertainties (entropy) computed for 59785 samples.\n",
            "Index of most uncertain sample: 57246\n",
            "Selected sample shape: (1, 784)\n",
            "Selected label: 2\n",
            "Updated labeled dataset shape: (216, 784)\n",
            "Updated labeled labels shape: (216,)\n",
            "Updated unlabeled pool shape: (59784, 784)\n",
            "Updated unlabeled labels shape: (59784,)\n",
            "Retraining the classifier on the updated labeled dataset...\n",
            "Retraining complete!\n",
            "Accuracy on the test set: 0.8031\n",
            "\n",
            "--- Iteration 17 ---\n",
            "Predicted probabilities shape: (59784, 10)\n",
            "Uncertainties (entropy) computed for 59784 samples.\n",
            "Index of most uncertain sample: 49465\n",
            "Selected sample shape: (1, 784)\n",
            "Selected label: 4\n",
            "Updated labeled dataset shape: (217, 784)\n",
            "Updated labeled labels shape: (217,)\n",
            "Updated unlabeled pool shape: (59783, 784)\n",
            "Updated unlabeled labels shape: (59783,)\n",
            "Retraining the classifier on the updated labeled dataset...\n",
            "Retraining complete!\n",
            "Accuracy on the test set: 0.7936\n",
            "\n",
            "--- Iteration 18 ---\n",
            "Predicted probabilities shape: (59783, 10)\n",
            "Uncertainties (entropy) computed for 59783 samples.\n",
            "Index of most uncertain sample: 32524\n",
            "Selected sample shape: (1, 784)\n",
            "Selected label: 2\n",
            "Updated labeled dataset shape: (218, 784)\n",
            "Updated labeled labels shape: (218,)\n",
            "Updated unlabeled pool shape: (59782, 784)\n",
            "Updated unlabeled labels shape: (59782,)\n",
            "Retraining the classifier on the updated labeled dataset...\n",
            "Retraining complete!\n",
            "Accuracy on the test set: 0.7982\n",
            "\n",
            "--- Iteration 19 ---\n",
            "Predicted probabilities shape: (59782, 10)\n",
            "Uncertainties (entropy) computed for 59782 samples.\n",
            "Index of most uncertain sample: 35609\n",
            "Selected sample shape: (1, 784)\n",
            "Selected label: 0\n",
            "Updated labeled dataset shape: (219, 784)\n",
            "Updated labeled labels shape: (219,)\n",
            "Updated unlabeled pool shape: (59781, 784)\n",
            "Updated unlabeled labels shape: (59781,)\n",
            "Retraining the classifier on the updated labeled dataset...\n",
            "Retraining complete!\n",
            "Accuracy on the test set: 0.7970\n",
            "\n",
            "--- Iteration 20 ---\n",
            "Predicted probabilities shape: (59781, 10)\n",
            "Uncertainties (entropy) computed for 59781 samples.\n",
            "Index of most uncertain sample: 21139\n",
            "Selected sample shape: (1, 784)\n",
            "Selected label: 2\n",
            "Updated labeled dataset shape: (220, 784)\n",
            "Updated labeled labels shape: (220,)\n",
            "Updated unlabeled pool shape: (59780, 784)\n",
            "Updated unlabeled labels shape: (59780,)\n",
            "Retraining the classifier on the updated labeled dataset...\n",
            "Retraining complete!\n",
            "Accuracy on the test set: 0.7948\n",
            "\n",
            "--- Summary of Active Learning Accuracies ---\n",
            "Iteration 1: Accuracy = 0.7834\n",
            "Iteration 2: Accuracy = 0.7862\n",
            "Iteration 3: Accuracy = 0.7837\n",
            "Iteration 4: Accuracy = 0.7845\n",
            "Iteration 5: Accuracy = 0.7844\n",
            "Iteration 6: Accuracy = 0.7890\n",
            "Iteration 7: Accuracy = 0.7848\n",
            "Iteration 8: Accuracy = 0.7903\n",
            "Iteration 9: Accuracy = 0.7884\n",
            "Iteration 10: Accuracy = 0.7908\n",
            "Iteration 11: Accuracy = 0.7856\n",
            "Iteration 12: Accuracy = 0.7911\n",
            "Iteration 13: Accuracy = 0.7883\n",
            "Iteration 14: Accuracy = 0.7960\n",
            "Iteration 15: Accuracy = 0.7980\n",
            "Iteration 16: Accuracy = 0.8031\n",
            "Iteration 17: Accuracy = 0.7936\n",
            "Iteration 18: Accuracy = 0.7982\n",
            "Iteration 19: Accuracy = 0.7970\n",
            "Iteration 20: Accuracy = 0.7948\n"
          ]
        },
        {
          "data": {
            "text/plain": [
              "Text(0.5, 1.0, 'Accuracy vs. Iteration')"
            ]
          },
          "execution_count": 70,
          "metadata": {},
          "output_type": "execute_result"
        },
        {
          "data": {
            "image/png": "[encoded data removed]",
            "text/plain": [
              "<Figure size 640x480 with 1 Axes>"
            ]
          },
          "metadata": {},
          "output_type": "display_data"
        }
      ],
      "source": [
        "# Task 3: Implement Uncertainty Sampling for Active Learning\n",
        "\n",
        "# Step 1: Using the same initially trained model (RandomForest) used for doing task 2.\n",
        "\n",
        "clf = deepcopy(global_clf)  # local model which is a deep copy of the global model\n",
        "\n",
        "# In each iteration, compute uncertainty for unlabeled samples using entropy of class probabilities.\n",
        "# Select the sample with the highest uncertainty, query its label, and update the labeled dataset.\n",
        "# Retrain the model and evaluate accuracy on the test set.\n",
        "print(\"\\nStarting active learning loop with uncertainty sampling (20 iterations)...\")\n",
        "\n",
        "# To store the model's accuracy at each iteration\n",
        "uncertainty_sampling_accuracies = []\n",
        "\n",
        "for iteration in range(1, 21):\n",
        "    print(f\"\\n--- Iteration {iteration} ---\")\n",
        "\n",
        "    # Step 2a: Compute uncertainty for each sample in the unlabeled pool\n",
        "    # Predict class probabilities for the unlabeled pool.\n",
        "    probabilities = clf.predict_proba(X_unlabeled_pool)\n",
        "    print(f\"Predicted probabilities shape: {probabilities.shape}\")  # Shape: (num_unlabeled_samples, num_classes)\n",
        "\n",
        "    # Compute entropy for each sample as a measure of uncertainty.\n",
        "    # Entropy formula: H(p) = -sum(p * log(p)) for each sample\n",
        "    uncertainties = compute_entropy(probabilities)  # Shape: (num_unlabeled_samples,)\n",
        "    print(f\"Uncertainties (entropy) computed for {len(uncertainties)} samples.\")\n",
        "\n",
        "    # Find the index of the sample with the highest uncertainty\n",
        "    most_uncertain_index = np.argmax(uncertainties)\n",
        "    print(f\"Index of most uncertain sample: {most_uncertain_index}\")\n",
        "\n",
        "    # Step 2b: Select the most uncertain sample and query its true label\n",
        "    selected_sample = X_unlabeled_pool[most_uncertain_index].reshape(1, -1)  # Reshape to preserve dimensions\n",
        "    selected_label = y_unlabeled_pool[most_uncertain_index]\n",
        "    print(f\"Selected sample shape: {selected_sample.shape}\")\n",
        "    print(f\"Selected label: {selected_label}\")\n",
        "\n",
        "    # Step 2c: Add the queried sample to the labeled dataset\n",
        "    X_initial_labeled = np.vstack([X_initial_labeled, selected_sample])\n",
        "    y_initial_labeled = np.append(y_initial_labeled, selected_label)\n",
        "    print(f\"Updated labeled dataset shape: {X_initial_labeled.shape}\")\n",
        "    print(f\"Updated labeled labels shape: {y_initial_labeled.shape}\")\n",
        "\n",
        "    # Step 2d: Remove the selected sample from the unlabeled pool\n",
        "    X_unlabeled_pool = np.delete(X_unlabeled_pool, most_uncertain_index, axis=0)\n",
        "    y_unlabeled_pool = np.delete(y_unlabeled_pool, most_uncertain_index)\n",
        "    print(f\"Updated unlabeled pool shape: {X_unlabeled_pool.shape}\")\n",
        "    print(f\"Updated unlabeled labels shape: {y_unlabeled_pool.shape}\")\n",
        "\n",
        "    # Step 2e: Retrain the model on the updated dataset\n",
        "    print(\"Retraining the classifier on the updated labeled dataset...\")\n",
        "    clf.fit(X_initial_labeled, y_initial_labeled)\n",
        "    print(\"Retraining complete!\")\n",
        "\n",
        "    # Step 2f: Check the model's accuracy on the test set\n",
        "    y_pred = clf.predict(X_test)\n",
        "    accuracy = accuracy_score(y_test, y_pred)\n",
        "    uncertainty_sampling_accuracies.append(accuracy)\n",
        "    print(f\"Accuracy on the test set: {accuracy:.4f}\")\n",
        "\n",
        "# Step 3: Print final summary of accuracies\n",
        "print(\"\\n--- Summary of Active Learning Accuracies ---\")\n",
        "for i, acc in enumerate(uncertainty_sampling_accuracies, 1):\n",
        "    print(f\"Iteration {i}: Accuracy = {acc:.4f}\")\n",
        "\n",
        "\n",
        "plt.plot(np.arange(1, 21, 1, dtype=int), uncertainty_sampling_accuracies)\n",
        "plt.scatter(np.arange(1, 21, 1, dtype=int), uncertainty_sampling_accuracies)\n",
        "plt.xlabel(\"Iteration\")\n",
        "plt.xticks(np.arange(1, 21, 1))\n",
        "plt.ylim(0.77, 0.82)\n",
        "plt.ylabel(\"Accuracy\")\n",
        "plt.title(\"Accuracy vs. Iteration\")"
      ]
    },
    {
      "cell_type": "markdown",
      "metadata": {
        "id": "lnQoF_abyphl"
      },
      "source": [
        "## Task 4 - Implement Query-by-Committee for Active Learning"
      ]
    },
    {
      "cell_type": "code",
      "execution_count": null,
      "metadata": {
        "id": "xfrjCTNA4i1F"
      },
      "outputs": [],
      "source": [
        "X_initial_labeled = copyOf_X_initial_labeled\n",
        "y_initial_labeled = copyOf_Y_initial_labeled\n",
        "\n",
        "X_unlabeled_pool = copy_of_X_unlabeled_pool\n",
        "y_unlabeled_pool = copy_of_Y_unlabeled_pool"
      ]
    },
    {
      "cell_type": "code",
      "execution_count": null,
      "metadata": {
        "colab": {
          "base_uri": "https://localhost:8080/",
          "height": 1000
        },
        "id": "Ns2jkxuYyqTL",
        "outputId": "d177affa-7e26-4161-a9a5-c4c6c199aa26"
      },
      "outputs": [
        {
          "name": "stdout",
          "output_type": "stream",
          "text": [
            "\n",
            "Starting active learning loop with Query-by-Committee (20 iterations)...\n",
            "\n",
            "--- Iteration 1 ---\n",
            "Committee predictions shape: (59800, 5)\n",
            "Class probabilities shape: (59800, 10)\n",
            "Disagreement (Vote Entropy) shape: (59800,)\n",
            "Index of sample with most disagreement: 5317, with entropy: 1.609437923947026\n",
            "Accuracy on test set (Iteration 1): 0.8018\n",
            "\n",
            "--- Iteration 2 ---\n",
            "Committee predictions shape: (59799, 5)\n",
            "Class probabilities shape: (59799, 10)\n",
            "Disagreement (Vote Entropy) shape: (59799,)\n",
            "Index of sample with most disagreement: 4782, with entropy: 1.609437923947026\n",
            "Accuracy on test set (Iteration 2): 0.8077\n",
            "\n",
            "--- Iteration 3 ---\n",
            "Committee predictions shape: (59798, 5)\n",
            "Class probabilities shape: (59798, 10)\n",
            "Disagreement (Vote Entropy) shape: (59798,)\n",
            "Index of sample with most disagreement: 16064, with entropy: 1.609437923947026\n",
            "Accuracy on test set (Iteration 3): 0.8091\n",
            "\n",
            "--- Iteration 4 ---\n",
            "Committee predictions shape: (59797, 5)\n",
            "Class probabilities shape: (59797, 10)\n",
            "Disagreement (Vote Entropy) shape: (59797,)\n",
            "Index of sample with most disagreement: 47239, with entropy: 1.609437923947026\n",
            "Accuracy on test set (Iteration 4): 0.8106\n",
            "\n",
            "--- Iteration 5 ---\n",
            "Committee predictions shape: (59796, 5)\n",
            "Class probabilities shape: (59796, 10)\n",
            "Disagreement (Vote Entropy) shape: (59796,)\n",
            "Index of sample with most disagreement: 5824, with entropy: 1.609437923947026\n",
            "Accuracy on test set (Iteration 5): 0.8101\n",
            "\n",
            "--- Iteration 6 ---\n",
            "Committee predictions shape: (59795, 5)\n",
            "Class probabilities shape: (59795, 10)\n",
            "Disagreement (Vote Entropy) shape: (59795,)\n",
            "Index of sample with most disagreement: 47045, with entropy: 1.609437923947026\n",
            "Accuracy on test set (Iteration 6): 0.8156\n",
            "\n",
            "--- Iteration 7 ---\n",
            "Committee predictions shape: (59794, 5)\n",
            "Class probabilities shape: (59794, 10)\n",
            "Disagreement (Vote Entropy) shape: (59794,)\n",
            "Index of sample with most disagreement: 915, with entropy: 1.609437923947026\n",
            "Accuracy on test set (Iteration 7): 0.8165\n",
            "\n",
            "--- Iteration 8 ---\n",
            "Committee predictions shape: (59793, 5)\n",
            "Class probabilities shape: (59793, 10)\n",
            "Disagreement (Vote Entropy) shape: (59793,)\n",
            "Index of sample with most disagreement: 2829, with entropy: 1.609437923947026\n",
            "Accuracy on test set (Iteration 8): 0.8173\n",
            "\n",
            "--- Iteration 9 ---\n",
            "Committee predictions shape: (59792, 5)\n",
            "Class probabilities shape: (59792, 10)\n",
            "Disagreement (Vote Entropy) shape: (59792,)\n",
            "Index of sample with most disagreement: 9329, with entropy: 1.609437923947026\n",
            "Accuracy on test set (Iteration 9): 0.8205\n",
            "\n",
            "--- Iteration 10 ---\n",
            "Committee predictions shape: (59791, 5)\n",
            "Class probabilities shape: (59791, 10)\n",
            "Disagreement (Vote Entropy) shape: (59791,)\n",
            "Index of sample with most disagreement: 202, with entropy: 1.609437923947026\n",
            "Accuracy on test set (Iteration 10): 0.8154\n",
            "\n",
            "--- Iteration 11 ---\n",
            "Committee predictions shape: (59790, 5)\n",
            "Class probabilities shape: (59790, 10)\n",
            "Disagreement (Vote Entropy) shape: (59790,)\n",
            "Index of sample with most disagreement: 3475, with entropy: 1.609437923947026\n",
            "Accuracy on test set (Iteration 11): 0.8120\n",
            "\n",
            "--- Iteration 12 ---\n",
            "Committee predictions shape: (59789, 5)\n",
            "Class probabilities shape: (59789, 10)\n",
            "Disagreement (Vote Entropy) shape: (59789,)\n",
            "Index of sample with most disagreement: 15462, with entropy: 1.609437923947026\n",
            "Accuracy on test set (Iteration 12): 0.8182\n",
            "\n",
            "--- Iteration 13 ---\n",
            "Committee predictions shape: (59788, 5)\n",
            "Class probabilities shape: (59788, 10)\n",
            "Disagreement (Vote Entropy) shape: (59788,)\n",
            "Index of sample with most disagreement: 17944, with entropy: 1.609437923947026\n",
            "Accuracy on test set (Iteration 13): 0.8196\n",
            "\n",
            "--- Iteration 14 ---\n",
            "Committee predictions shape: (59787, 5)\n",
            "Class probabilities shape: (59787, 10)\n",
            "Disagreement (Vote Entropy) shape: (59787,)\n",
            "Index of sample with most disagreement: 7764, with entropy: 1.609437923947026\n",
            "Accuracy on test set (Iteration 14): 0.8182\n",
            "\n",
            "--- Iteration 15 ---\n",
            "Committee predictions shape: (59786, 5)\n",
            "Class probabilities shape: (59786, 10)\n",
            "Disagreement (Vote Entropy) shape: (59786,)\n",
            "Index of sample with most disagreement: 9720, with entropy: 1.609437923947026\n",
            "Accuracy on test set (Iteration 15): 0.8201\n",
            "\n",
            "--- Iteration 16 ---\n",
            "Committee predictions shape: (59785, 5)\n",
            "Class probabilities shape: (59785, 10)\n",
            "Disagreement (Vote Entropy) shape: (59785,)\n",
            "Index of sample with most disagreement: 40022, with entropy: 1.609437923947026\n",
            "Accuracy on test set (Iteration 16): 0.8181\n",
            "\n",
            "--- Iteration 17 ---\n",
            "Committee predictions shape: (59784, 5)\n",
            "Class probabilities shape: (59784, 10)\n",
            "Disagreement (Vote Entropy) shape: (59784,)\n",
            "Index of sample with most disagreement: 2824, with entropy: 1.6094379239470258\n",
            "Accuracy on test set (Iteration 17): 0.8225\n",
            "\n",
            "--- Iteration 18 ---\n",
            "Committee predictions shape: (59783, 5)\n",
            "Class probabilities shape: (59783, 10)\n",
            "Disagreement (Vote Entropy) shape: (59783,)\n",
            "Index of sample with most disagreement: 31329, with entropy: 1.609437923947026\n",
            "Accuracy on test set (Iteration 18): 0.8210\n",
            "\n",
            "--- Iteration 19 ---\n",
            "Committee predictions shape: (59782, 5)\n",
            "Class probabilities shape: (59782, 10)\n",
            "Disagreement (Vote Entropy) shape: (59782,)\n",
            "Index of sample with most disagreement: 3549, with entropy: 1.609437923947026\n",
            "Accuracy on test set (Iteration 19): 0.8260\n",
            "\n",
            "--- Iteration 20 ---\n",
            "Committee predictions shape: (59781, 5)\n",
            "Class probabilities shape: (59781, 10)\n",
            "Disagreement (Vote Entropy) shape: (59781,)\n",
            "Index of sample with most disagreement: 625, with entropy: 1.609437923947026\n",
            "Accuracy on test set (Iteration 20): 0.8236\n",
            "\n",
            "--- Summary of Active Learning Accuracies (Query-by-Committee) ---\n",
            "Iteration 1: Accuracy = 0.8018\n",
            "Iteration 2: Accuracy = 0.8077\n",
            "Iteration 3: Accuracy = 0.8091\n",
            "Iteration 4: Accuracy = 0.8106\n",
            "Iteration 5: Accuracy = 0.8101\n",
            "Iteration 6: Accuracy = 0.8156\n",
            "Iteration 7: Accuracy = 0.8165\n",
            "Iteration 8: Accuracy = 0.8173\n",
            "Iteration 9: Accuracy = 0.8205\n",
            "Iteration 10: Accuracy = 0.8154\n",
            "Iteration 11: Accuracy = 0.8120\n",
            "Iteration 12: Accuracy = 0.8182\n",
            "Iteration 13: Accuracy = 0.8196\n",
            "Iteration 14: Accuracy = 0.8182\n",
            "Iteration 15: Accuracy = 0.8201\n",
            "Iteration 16: Accuracy = 0.8181\n",
            "Iteration 17: Accuracy = 0.8225\n",
            "Iteration 18: Accuracy = 0.8210\n",
            "Iteration 19: Accuracy = 0.8260\n",
            "Iteration 20: Accuracy = 0.8236\n"
          ]
        },
        {
          "data": {
            "text/plain": [
              "Text(0.5, 1.0, 'Accuracy vs. Iteration')"
            ]
          },
          "execution_count": 91,
          "metadata": {},
          "output_type": "execute_result"
        },
        {
          "data": {
            "image/png": "[encoded data removed]",
            "text/plain": [
              "<Figure size 640x480 with 1 Axes>"
            ]
          },
          "metadata": {},
          "output_type": "display_data"
        }
      ],
      "source": [
        "# Step 1: Initialize a committee of 5 Random Forest models\n",
        "committee_size = 5\n",
        "committee = [RandomForestClassifier(random_state=i) for i in range(committee_size)]\n",
        "\n",
        "# Train each member of the committee on the initial labeled dataset\n",
        "for clf in committee:\n",
        "    clf.fit(X_initial_labeled, y_initial_labeled)\n",
        "\n",
        "# Step 2: Active Learning Loop\n",
        "print(\"\\nStarting active learning loop with Query-by-Committee (20 iterations)...\")\n",
        "committee_query_accuracies = []\n",
        "\n",
        "for iteration in range(1, 21):\n",
        "    print(f\"\\n--- Iteration {iteration} ---\")\n",
        "\n",
        "    # Step 2a: Compute predictions for unlabeled samples from all committee members\n",
        "    committee_predictions = np.array([clf.predict(X_unlabeled_pool) for clf in committee]).T\n",
        "    print(f\"Committee predictions shape: {committee_predictions.shape}\")\n",
        "\n",
        "    # Step 2b: Measure disagreement using Vote Entropy\n",
        "    # Calculate the probability of each class prediction for each sample.\n",
        "    class_probabilities = np.apply_along_axis(lambda x: np.bincount(x, minlength=10) / len(x), axis=1, arr=committee_predictions)\n",
        "    print(f\"Class probabilities shape: {class_probabilities.shape}\")\n",
        "\n",
        "    # Compute vote entropy for each sample.\n",
        "    disagreement = compute_entropy(class_probabilities)\n",
        "    print(f\"Disagreement (Vote Entropy) shape: {disagreement.shape}\")\n",
        "\n",
        "    # Step 2c: Select the sample with the highest disagreement\n",
        "    most_disagreement = np.max(disagreement)\n",
        "    most_disagreement_index = np.argmax(disagreement)\n",
        "    print(f\"Index of sample with most disagreement: {most_disagreement_index}, with entropy: {most_disagreement}\")\n",
        "\n",
        "    # Step 2d: Query the label of the selected sample\n",
        "    selected_sample = X_unlabeled_pool[most_disagreement_index].reshape(1, -1)\n",
        "    selected_label = y_unlabeled_pool[most_disagreement_index]\n",
        "\n",
        "    # Step 2e: Update the labeled dataset\n",
        "    X_initial_labeled = np.vstack([X_initial_labeled, selected_sample])\n",
        "    y_initial_labeled = np.append(y_initial_labeled, selected_label)\n",
        "\n",
        "    # Step 2f: Remove selected sample from the unlabeled pool\n",
        "    X_unlabeled_pool = np.delete(X_unlabeled_pool, most_disagreement_index, axis=0)\n",
        "    y_unlabeled_pool = np.delete(y_unlabeled_pool, most_disagreement_index)\n",
        "\n",
        "    # Step 2g: Retrain all models in the committee\n",
        "    for clf in committee:\n",
        "        clf.fit(X_initial_labeled, y_initial_labeled)\n",
        "\n",
        "    # Step 2h: Evaluate the committee's performance - taking predictions from the whole committee as a single entity and then comparing with ground truth\n",
        "    y_preds = mode([model.predict(X_test) for model in committee]).mode  # using scipy's mode function\n",
        "    accuracy = accuracy_score(y_test, y_preds)\n",
        "    committee_query_accuracies.append(accuracy)\n",
        "    print(f\"Accuracy on test set (Iteration {iteration}): {accuracy:.4f}\")\n",
        "\n",
        "# Step 3: Print final summary of accuracies\n",
        "print(\"\\n--- Summary of Active Learning Accuracies (Query-by-Committee) ---\")\n",
        "for i, acc in enumerate(committee_query_accuracies, 1):\n",
        "    print(f\"Iteration {i}: Accuracy = {acc:.4f}\")\n",
        "\n",
        "plt.plot(np.arange(1, 21, 1, dtype=int), committee_query_accuracies)\n",
        "plt.scatter(np.arange(1, 21, 1, dtype=int), committee_query_accuracies)\n",
        "plt.xlabel(\"Iteration\")\n",
        "plt.xticks(np.arange(1, 21, 1))\n",
        "plt.ylabel(\"Accuracy\")\n",
        "plt.title(\"Accuracy vs. Iteration\")"
      ]
    },
    {
      "cell_type": "markdown",
      "metadata": {
        "id": "YpCQTULUkptd"
      },
      "source": [
        "## Task 5 - Evaluation & Report\n",
        "#### Compare the final model accuracy across all three strategies.\n",
        "\n",
        "Method | Final Accuracy | Delta\n",
        "---|---|---\n",
        "Random Sampling | 80.24% | 1.71%\n",
        "Uncertainty Sampling | 79.48% | 1.14%\n",
        "Query-by-Committee | 82.36% | 2.18%"
      ]
    },
    {
      "cell_type": "markdown",
      "metadata": {
        "id": "pBzS2f5DxjLA"
      },
      "source": [
        "#### Plots the graph of accuracies for all three methods for 20 iterations."
      ]
    },
    {
      "cell_type": "code",
      "execution_count": null,
      "metadata": {
        "colab": {
          "base_uri": "https://localhost:8080/",
          "height": 557
        },
        "id": "qNwWm5MczkMx",
        "outputId": "1b33471c-20f9-4924-f55a-c44917a2b041"
      },
      "outputs": [
        {
          "data": {
            "image/png": "[encoded data removed]",
            "text/plain": [
              "<Figure size 1200x600 with 1 Axes>"
            ]
          },
          "metadata": {},
          "output_type": "display_data"
        }
      ],
      "source": [
        "plt.figure(figsize=(12, 6))\n",
        "\n",
        "# Plot 1: Committee Query\n",
        "plt.plot(np.arange(1, 21), committee_query_accuracies, label='Committee Query', marker='o')\n",
        "start_point = committee_query_accuracies[0]\n",
        "end_point = committee_query_accuracies[-1]\n",
        "plt.plot([1, 20], [start_point, end_point], linestyle='--', color='skyblue')\n",
        "plt.text(10, start_point + 0.001, f'{end_point - start_point:.4f}', ha='center', va='bottom', color = 'skyblue')\n",
        "\n",
        "\n",
        "# Plot 2: Uncertainty Sampling\n",
        "plt.plot(np.arange(1, 21), uncertainty_sampling_accuracies, label='Uncertainty Sampling', marker='s')\n",
        "start_point = uncertainty_sampling_accuracies[0]\n",
        "end_point = uncertainty_sampling_accuracies[-1]\n",
        "plt.plot([1, 20], [start_point, end_point], linestyle='--', color='orange')\n",
        "plt.text(10, start_point + 0.001, f'{end_point - start_point:.4f}', ha='center', va='bottom', color = 'orange')\n",
        "\n",
        "\n",
        "# Plot 3: Random Sampling\n",
        "plt.plot(np.arange(1, 21), random_sampling_accuracies, label='Random Sampling', marker='x')\n",
        "start_point = random_sampling_accuracies[0]\n",
        "end_point = random_sampling_accuracies[-1]\n",
        "plt.plot([1, 20], [start_point, end_point], linestyle='--', color='green')\n",
        "plt.text(10, start_point + 0.001, f'{end_point - start_point:.4f}', ha='center', va='bottom', color = 'green')\n",
        "\n",
        "plt.xlabel(\"Iteration\")\n",
        "plt.xticks(np.arange(1, 21, 1))\n",
        "plt.ylabel(\"Accuracy\")\n",
        "plt.title(\"Accuracy vs. Iteration for Different Active Learning Methods\")\n",
        "plt.legend()\n",
        "plt.grid(True)\n",
        "plt.show()\n"
      ]
    },
    {
      "cell_type": "markdown",
      "metadata": {
        "id": "lxkpPYUK0LqY"
      },
      "source": [
        "#### As is visible clearly:\n",
        "### 1. **Final Accuracy**\n",
        "- **Query-by-Committee** achieves the highest final accuracy (**82.36%**), outperforming both Random Sampling and Uncertainty Sampling.\n",
        "- **Random Sampling** achieves a moderate accuracy of **80.24%**, while **Uncertainty Sampling** performs slightly worse at **79.48%**.\n",
        "\n",
        "### 2. **Delta (Improvement Over Initial Accuracy)**\n",
        "- **Query-by-Committee** shows the largest improvement in accuracy (**2.18%**), indicating it is the most effective at leveraging active learning to enhance model performance in limited iterations.\n",
        "- **Random Sampling** achieves a moderate improvement of **1.71%**.\n",
        "- **Uncertainty Sampling** has the smallest improvement (**1.14%**), suggesting it is less effective at driving accuracy gains compared to the other methods.\n",
        "\n",
        "### 3. **Cost-Effectiveness**\n",
        "Cost-effectiveness is determined by balancing **final accuracy** and **improvement in accuracy**. A method is considered cost-effective if it achieves high accuracy with significant improvement, minimizing the need for additional resources or iterations.\n",
        "\n",
        "- **Query-by-Committee** is the most effective method in terms of both **final accuracy** and **improvement**. However, it may require more computational resources or labeling effort due to its complexity.\n",
        "- **Random Sampling** provides a good balance between **final accuracy** and **improvement**, making it a cost-effective choice for many applications.\n",
        "- **Uncertainty Sampling** has the lowest **final accuracy** and **improvement**, making it the least cost-effective option among the three. It also requires additional computational resources and time compared to random sampling for calculating the **Label Entropies**."
      ]
    },
    {
      "cell_type": "markdown",
      "metadata": {
        "id": "a0vxvXZe26MS"
      },
      "source": [
        "### **Conclusion**\n",
        "- **Query-by-Committee** is the best choice when **maximizing accuracy and improvement** is the primary goal, even if it requires more resources.\n",
        "- **Random Sampling** is the most **cost-effective** method overall, offering a good balance between **final accuracy** and **improvement**, making it suitable for a wide range of applications.\n",
        "- **Uncertainty Sampling** is the least effective method in this comparison, as it provides the smallest improvement and lowest final accuracy in return of additional complexity.\n",
        "\n",
        "## Some limitations\n",
        "- **Model Architecture and Hyperparameters**:\n",
        "  - The performance of active learning methods depends on the underlying model (e.g., neural networks vs. SVMs). The assignment does not explore or talk about whether different model architecture and hyperparameters could impact the results.\n",
        "  - Hyperparameters (e.g., committee size in Query-by-Committee) might disproportionately affect results.\n",
        "\n",
        "- **Initial Accuracy Bias**:\n",
        "  - The *initial accuracies had to be the same* to compare **Random sampling** and **Uncertainty sampling**, for which, the same initial RandomForestClassifier was used for both of them after training on the initial dataset of 200 images.\n",
        "  - For Query-by-Committee, it was not possible to use the same initial model as the one used above."
      ]
    }
  ],
  "metadata": {
    "colab": {
      "provenance": []
    },
    "kernelspec": {
      "display_name": "Python 3",
      "name": "python3"
    },
    "language_info": {
      "codemirror_mode": {
        "name": "ipython",
        "version": 3
      },
      "file_extension": ".py",
      "mimetype": "text/x-python",
      "name": "python",
      "nbconvert_exporter": "python",
      "pygments_lexer": "ipython3",
      "version": "3.12.5"
    }
  },
  "nbformat": 4,
  "nbformat_minor": 0
}
